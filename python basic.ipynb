{
 "cells": [
  {
   "cell_type": "code",
   "execution_count": 1,
   "id": "d56e39cf-c0f6-4311-9013-66de18a2e4fc",
   "metadata": {},
   "outputs": [
    {
     "data": {
      "text/plain": [
       "2"
      ]
     },
     "execution_count": 1,
     "metadata": {},
     "output_type": "execute_result"
    }
   ],
   "source": [
    "1+1\n"
   ]
  },
  {
   "cell_type": "code",
   "execution_count": 2,
   "id": "6a0cb18c-6e75-4c07-8e72-77a8288066dd",
   "metadata": {},
   "outputs": [
    {
     "data": {
      "text/plain": [
       "25"
      ]
     },
     "execution_count": 2,
     "metadata": {},
     "output_type": "execute_result"
    }
   ],
   "source": [
    "5*5"
   ]
  },
  {
   "cell_type": "code",
   "execution_count": 3,
   "id": "e4c4e45d-efb8-4d8a-8c47-8330ea2c5787",
   "metadata": {},
   "outputs": [
    {
     "data": {
      "text/plain": [
       "3.0"
      ]
     },
     "execution_count": 3,
     "metadata": {},
     "output_type": "execute_result"
    }
   ],
   "source": [
    "6/2"
   ]
  },
  {
   "cell_type": "code",
   "execution_count": 4,
   "id": "2b987e6f-8335-4910-a860-f6fd097aeeeb",
   "metadata": {},
   "outputs": [
    {
     "data": {
      "text/plain": [
       "249028208"
      ]
     },
     "execution_count": 4,
     "metadata": {},
     "output_type": "execute_result"
    }
   ],
   "source": [
    "5456*45643"
   ]
  },
  {
   "cell_type": "code",
   "execution_count": 5,
   "id": "203a1165-55cb-4116-81c1-442a9c4dec40",
   "metadata": {},
   "outputs": [
    {
     "data": {
      "text/plain": [
       "3105"
      ]
     },
     "execution_count": 5,
     "metadata": {},
     "output_type": "execute_result"
    }
   ],
   "source": [
    "3569-464"
   ]
  },
  {
   "cell_type": "code",
   "execution_count": 7,
   "id": "0e5ed5c0-9040-486b-8f22-6230b56540cc",
   "metadata": {},
   "outputs": [],
   "source": [
    "a=1213"
   ]
  },
  {
   "cell_type": "code",
   "execution_count": 8,
   "id": "3cb7c699-806e-4de1-85ed-b51bc826d0da",
   "metadata": {},
   "outputs": [
    {
     "data": {
      "text/plain": [
       "1213"
      ]
     },
     "execution_count": 8,
     "metadata": {},
     "output_type": "execute_result"
    }
   ],
   "source": [
    "a"
   ]
  },
  {
   "cell_type": "code",
   "execution_count": 11,
   "id": "c612e066-513e-4ee4-a5e2-b6cfe4654941",
   "metadata": {},
   "outputs": [],
   "source": [
    "hgjhgjk=775788"
   ]
  },
  {
   "cell_type": "code",
   "execution_count": 12,
   "id": "07ee20a9-d31a-417b-a5e3-b1d89b6a7afa",
   "metadata": {},
   "outputs": [
    {
     "data": {
      "text/plain": [
       "775788"
      ]
     },
     "execution_count": 12,
     "metadata": {},
     "output_type": "execute_result"
    }
   ],
   "source": [
    "hgjhgjk"
   ]
  },
  {
   "cell_type": "code",
   "execution_count": 13,
   "id": "3a797fa1-c8ba-4417-afa3-f0419b5fd536",
   "metadata": {},
   "outputs": [
    {
     "data": {
      "text/plain": [
       "int"
      ]
     },
     "execution_count": 13,
     "metadata": {},
     "output_type": "execute_result"
    }
   ],
   "source": [
    "type (a)"
   ]
  },
  {
   "cell_type": "code",
   "execution_count": 14,
   "id": "88819a29-989d-4011-883b-7070f03ed7bc",
   "metadata": {},
   "outputs": [
    {
     "data": {
      "text/plain": [
       "777001"
      ]
     },
     "execution_count": 14,
     "metadata": {},
     "output_type": "execute_result"
    }
   ],
   "source": [
    "hgjhgjk+a"
   ]
  },
  {
   "cell_type": "code",
   "execution_count": 16,
   "id": "f098ba85-6b5b-4520-b93e-7ba5c454b17a",
   "metadata": {},
   "outputs": [],
   "source": [
    "b=45.54"
   ]
  },
  {
   "cell_type": "code",
   "execution_count": 17,
   "id": "52ce9d0c-7755-4810-a863-3285aee4d34b",
   "metadata": {},
   "outputs": [
    {
     "data": {
      "text/plain": [
       "45.54"
      ]
     },
     "execution_count": 17,
     "metadata": {},
     "output_type": "execute_result"
    }
   ],
   "source": [
    "b"
   ]
  },
  {
   "cell_type": "code",
   "execution_count": 18,
   "id": "97ba3060-2f3e-4285-a83c-04925fdac075",
   "metadata": {},
   "outputs": [
    {
     "data": {
      "text/plain": [
       "float"
      ]
     },
     "execution_count": 18,
     "metadata": {},
     "output_type": "execute_result"
    }
   ],
   "source": [
    "type(b)"
   ]
  },
  {
   "cell_type": "code",
   "execution_count": 19,
   "id": "c8ea9a9a-9269-4431-b1c0-d9c101d5bfbb",
   "metadata": {},
   "outputs": [
    {
     "data": {
      "text/plain": [
       "87.0"
      ]
     },
     "execution_count": 19,
     "metadata": {},
     "output_type": "execute_result"
    }
   ],
   "source": [
    "c=87.00000\n",
    "c"
   ]
  },
  {
   "cell_type": "code",
   "execution_count": 20,
   "id": "55cb7408-32d3-4506-8787-2c3eb52eb65c",
   "metadata": {},
   "outputs": [
    {
     "data": {
      "text/plain": [
       "88989.000000005"
      ]
     },
     "execution_count": 20,
     "metadata": {},
     "output_type": "execute_result"
    }
   ],
   "source": [
    "c=88989.000000005\n",
    "c"
   ]
  },
  {
   "cell_type": "code",
   "execution_count": 21,
   "id": "2a603031-f5e2-4856-a441-84f02ee617da",
   "metadata": {},
   "outputs": [
    {
     "data": {
      "text/plain": [
       "'abhishek kumar'"
      ]
     },
     "execution_count": 21,
     "metadata": {},
     "output_type": "execute_result"
    }
   ],
   "source": [
    "d= \"abhishek kumar\"\n",
    "d"
   ]
  },
  {
   "cell_type": "code",
   "execution_count": 22,
   "id": "d10bb1e6-e767-40d8-9f5d-1a5e1b900d90",
   "metadata": {},
   "outputs": [
    {
     "data": {
      "text/plain": [
       "str"
      ]
     },
     "execution_count": 22,
     "metadata": {},
     "output_type": "execute_result"
    }
   ],
   "source": [
    "type(d)"
   ]
  },
  {
   "cell_type": "code",
   "execution_count": 24,
   "id": "48ad9ac5-2d46-46f9-8ca7-42ea22d2cfde",
   "metadata": {},
   "outputs": [
    {
     "data": {
      "text/plain": [
       "'this is my line in side'"
      ]
     },
     "execution_count": 24,
     "metadata": {},
     "output_type": "execute_result"
    }
   ],
   "source": [
    " e= 'this is my line in side'\n",
    " e   "
   ]
  },
  {
   "cell_type": "code",
   "execution_count": 25,
   "id": "323273ad-f055-42d5-b939-06ba3e347f62",
   "metadata": {},
   "outputs": [
    {
     "data": {
      "text/plain": [
       "str"
      ]
     },
     "execution_count": 25,
     "metadata": {},
     "output_type": "execute_result"
    }
   ],
   "source": [
    "type(e)"
   ]
  },
  {
   "cell_type": "code",
   "execution_count": 36,
   "id": "00efe515-016a-426f-a7a6-55e616d948b6",
   "metadata": {},
   "outputs": [
    {
     "data": {
      "text/plain": [
       "True"
      ]
     },
     "execution_count": 36,
     "metadata": {},
     "output_type": "execute_result"
    }
   ],
   "source": [
    "y= True\n",
    "y"
   ]
  },
  {
   "cell_type": "code",
   "execution_count": 37,
   "id": "dad1a1ff-f3ee-4ed0-b047-bffe9e50ee39",
   "metadata": {},
   "outputs": [
    {
     "data": {
      "text/plain": [
       "False"
      ]
     },
     "execution_count": 37,
     "metadata": {},
     "output_type": "execute_result"
    }
   ],
   "source": [
    "m= False\n",
    "m"
   ]
  },
  {
   "cell_type": "code",
   "execution_count": 38,
   "id": "4e00e783-6018-425c-883d-f7a24c3a6ba4",
   "metadata": {},
   "outputs": [
    {
     "data": {
      "text/plain": [
       "1"
      ]
     },
     "execution_count": 38,
     "metadata": {},
     "output_type": "execute_result"
    }
   ],
   "source": [
    "y+m"
   ]
  },
  {
   "cell_type": "code",
   "execution_count": 40,
   "id": "2aa0b8d6-8bad-48d1-99ac-246583cbd9b7",
   "metadata": {},
   "outputs": [
    {
     "data": {
      "text/plain": [
       "0"
      ]
     },
     "execution_count": 40,
     "metadata": {},
     "output_type": "execute_result"
    }
   ],
   "source": [
    "True*False"
   ]
  },
  {
   "cell_type": "code",
   "execution_count": 44,
   "id": "be372b24-1fe4-4a99-ab78-8441971cb140",
   "metadata": {},
   "outputs": [
    {
     "data": {
      "text/plain": [
       "(6+4j)"
      ]
     },
     "execution_count": 44,
     "metadata": {},
     "output_type": "execute_result"
    }
   ],
   "source": [
    "v =6 +4j\n",
    "v"
   ]
  },
  {
   "cell_type": "code",
   "execution_count": 46,
   "id": "c2df9063-e7c7-47b2-80e8-92f212524125",
   "metadata": {},
   "outputs": [
    {
     "data": {
      "text/plain": [
       "complex"
      ]
     },
     "execution_count": 46,
     "metadata": {},
     "output_type": "execute_result"
    }
   ],
   "source": [
    "type (v)"
   ]
  },
  {
   "cell_type": "code",
   "execution_count": 47,
   "id": "5bd4551b-ea26-419f-ad27-0ef83f990c61",
   "metadata": {},
   "outputs": [
    {
     "data": {
      "text/plain": [
       "6.0"
      ]
     },
     "execution_count": 47,
     "metadata": {},
     "output_type": "execute_result"
    }
   ],
   "source": [
    "v.real"
   ]
  },
  {
   "cell_type": "code",
   "execution_count": 49,
   "id": "1396855b-cabb-40b4-9c0f-6dde22b5a575",
   "metadata": {},
   "outputs": [
    {
     "data": {
      "text/plain": [
       "4.0"
      ]
     },
     "execution_count": 49,
     "metadata": {},
     "output_type": "execute_result"
    }
   ],
   "source": [
    "v.imag"
   ]
  },
  {
   "cell_type": "code",
   "execution_count": 50,
   "id": "e055d80d-1d2d-40d7-b51d-4215f9530149",
   "metadata": {},
   "outputs": [
    {
     "data": {
      "text/plain": [
       "(6+4j)"
      ]
     },
     "execution_count": 50,
     "metadata": {},
     "output_type": "execute_result"
    }
   ],
   "source": [
    "v"
   ]
  },
  {
   "cell_type": "code",
   "execution_count": 51,
   "id": "a7b671a7-547f-4138-aac5-39db425c60e9",
   "metadata": {},
   "outputs": [
    {
     "name": "stdout",
     "output_type": "stream",
     "text": [
      "my name is abhi and you\n"
     ]
    }
   ],
   "source": [
    "print (\"my name is abhi and you\")"
   ]
  },
  {
   "cell_type": "code",
   "execution_count": 52,
   "id": "cec9a902-6e1b-4b83-9cb0-923cb7eec214",
   "metadata": {},
   "outputs": [
    {
     "data": {
      "text/plain": [
       "1213"
      ]
     },
     "execution_count": 52,
     "metadata": {},
     "output_type": "execute_result"
    }
   ],
   "source": [
    "a"
   ]
  },
  {
   "cell_type": "code",
   "execution_count": 66,
   "id": "ed81f72f-ba23-44ef-80c9-586371a9b80a",
   "metadata": {},
   "outputs": [
    {
     "data": {
      "text/plain": [
       "'m'"
      ]
     },
     "execution_count": 66,
     "metadata": {},
     "output_type": "execute_result"
    }
   ],
   "source": [
    "a= \"abhishekkumar\"\n",
    "a[10]\n"
   ]
  },
  {
   "cell_type": "code",
   "execution_count": 56,
   "id": "8b09b0c8-ec22-4da3-874d-89de99cd7162",
   "metadata": {},
   "outputs": [
    {
     "data": {
      "text/plain": [
       "' '"
      ]
     },
     "execution_count": 56,
     "metadata": {},
     "output_type": "execute_result"
    }
   ],
   "source": [
    "a[8]"
   ]
  },
  {
   "cell_type": "code",
   "execution_count": 57,
   "id": "0e028192-0774-4d53-bb91-27f0728b3d5f",
   "metadata": {},
   "outputs": [
    {
     "data": {
      "text/plain": [
       "'k'"
      ]
     },
     "execution_count": 57,
     "metadata": {},
     "output_type": "execute_result"
    }
   ],
   "source": [
    "a[9]"
   ]
  },
  {
   "cell_type": "code",
   "execution_count": 58,
   "id": "83d5d28c-a664-43a3-81a7-d6d5812257d0",
   "metadata": {},
   "outputs": [
    {
     "data": {
      "text/plain": [
       "'abhis'"
      ]
     },
     "execution_count": 58,
     "metadata": {},
     "output_type": "execute_result"
    }
   ],
   "source": [
    "a[0:5]"
   ]
  },
  {
   "cell_type": "code",
   "execution_count": 59,
   "id": "ea0bec85-c4da-455e-8dfb-8cb2240cb7ad",
   "metadata": {},
   "outputs": [
    {
     "data": {
      "text/plain": [
       "'shek '"
      ]
     },
     "execution_count": 59,
     "metadata": {},
     "output_type": "execute_result"
    }
   ],
   "source": [
    "a[4:9]"
   ]
  },
  {
   "cell_type": "code",
   "execution_count": 60,
   "id": "66204b66-f743-465f-bc7a-4ba18e1ae152",
   "metadata": {},
   "outputs": [
    {
     "data": {
      "text/plain": [
       "'uma'"
      ]
     },
     "execution_count": 60,
     "metadata": {},
     "output_type": "execute_result"
    }
   ],
   "source": [
    "a[10:13]"
   ]
  },
  {
   "cell_type": "code",
   "execution_count": 61,
   "id": "0ea03f1e-4669-4276-b2fb-2c29688bde64",
   "metadata": {},
   "outputs": [
    {
     "data": {
      "text/plain": [
       "'kuma'"
      ]
     },
     "execution_count": 61,
     "metadata": {},
     "output_type": "execute_result"
    }
   ],
   "source": [
    "a[9:13]"
   ]
  },
  {
   "cell_type": "code",
   "execution_count": 62,
   "id": "11c71b8f-ab4f-4919-8ffe-b30255f5daf7",
   "metadata": {},
   "outputs": [
    {
     "data": {
      "text/plain": [
       "'hek kumar'"
      ]
     },
     "execution_count": 62,
     "metadata": {},
     "output_type": "execute_result"
    }
   ],
   "source": [
    "a[5:14]"
   ]
  },
  {
   "cell_type": "code",
   "execution_count": 63,
   "id": "74f5aa9f-0e38-4b08-9b9b-06547b13beac",
   "metadata": {},
   "outputs": [
    {
     "data": {
      "text/plain": [
       "'h'"
      ]
     },
     "execution_count": 63,
     "metadata": {},
     "output_type": "execute_result"
    }
   ],
   "source": [
    "a[2:4:7]"
   ]
  },
  {
   "cell_type": "code",
   "execution_count": 64,
   "id": "ae37b822-227c-4428-9ddb-12a1dee1924e",
   "metadata": {},
   "outputs": [
    {
     "data": {
      "text/plain": [
       "'a'"
      ]
     },
     "execution_count": 64,
     "metadata": {},
     "output_type": "execute_result"
    }
   ],
   "source": [
    "a[0:2:4]"
   ]
  },
  {
   "cell_type": "code",
   "execution_count": 65,
   "id": "a440880d-efdf-44ed-b34d-0659266d5bac",
   "metadata": {},
   "outputs": [
    {
     "data": {
      "text/plain": [
       "'ahse'"
      ]
     },
     "execution_count": 65,
     "metadata": {},
     "output_type": "execute_result"
    }
   ],
   "source": [
    "a[0:8:2]"
   ]
  },
  {
   "cell_type": "code",
   "execution_count": 67,
   "id": "b7ca486c-9c91-4bb1-b0b3-94f24af03f9b",
   "metadata": {},
   "outputs": [
    {
     "data": {
      "text/plain": [
       "'ahsekmr'"
      ]
     },
     "execution_count": 67,
     "metadata": {},
     "output_type": "execute_result"
    }
   ],
   "source": [
    "a[::2\n",
    "]"
   ]
  },
  {
   "cell_type": "code",
   "execution_count": 68,
   "id": "6e45b1e0-bc81-4fde-a996-8ce4c9b3889b",
   "metadata": {},
   "outputs": [
    {
     "data": {
      "text/plain": [
       "'aie'"
      ]
     },
     "execution_count": 68,
     "metadata": {},
     "output_type": "execute_result"
    }
   ],
   "source": [
    "a[0:8:3]"
   ]
  },
  {
   "cell_type": "code",
   "execution_count": 69,
   "id": "2ef35740-fdda-462d-b93f-031a9924159f",
   "metadata": {},
   "outputs": [
    {
     "data": {
      "text/plain": [
       "'sa'"
      ]
     },
     "execution_count": 69,
     "metadata": {},
     "output_type": "execute_result"
    }
   ],
   "source": [
    "a[4:15:7]"
   ]
  },
  {
   "cell_type": "code",
   "execution_count": 70,
   "id": "410e55e0-8fac-4084-b9a4-5604c4062536",
   "metadata": {},
   "outputs": [
    {
     "data": {
      "text/plain": [
       "'abhi'"
      ]
     },
     "execution_count": 70,
     "metadata": {},
     "output_type": "execute_result"
    }
   ],
   "source": [
    "a=\"abhi\"\n",
    "a"
   ]
  },
  {
   "cell_type": "code",
   "execution_count": 71,
   "id": "ec315025-7e75-4c86-98c4-c0a1f62c365e",
   "metadata": {},
   "outputs": [
    {
     "data": {
      "text/plain": [
       "str"
      ]
     },
     "execution_count": 71,
     "metadata": {},
     "output_type": "execute_result"
    }
   ],
   "source": [
    "type(a)"
   ]
  },
  {
   "cell_type": "code",
   "execution_count": 72,
   "id": "5788f5bb-b017-4893-8160-e9a138cd997d",
   "metadata": {},
   "outputs": [
    {
     "data": {
      "text/plain": [
       "int"
      ]
     },
     "execution_count": 72,
     "metadata": {},
     "output_type": "execute_result"
    }
   ],
   "source": [
    "a= 2344\n",
    "type(a)"
   ]
  },
  {
   "cell_type": "code",
   "execution_count": 73,
   "id": "c46d0ad6-5cc2-420c-b253-8eb0cbb64332",
   "metadata": {},
   "outputs": [
    {
     "data": {
      "text/plain": [
       "5.453"
      ]
     },
     "execution_count": 73,
     "metadata": {},
     "output_type": "execute_result"
    }
   ],
   "source": [
    "a=5.453\n",
    "a"
   ]
  },
  {
   "cell_type": "code",
   "execution_count": 74,
   "id": "af7eb94c-41a5-4846-ab52-bc34a69074b0",
   "metadata": {},
   "outputs": [
    {
     "data": {
      "text/plain": [
       "float"
      ]
     },
     "execution_count": 74,
     "metadata": {},
     "output_type": "execute_result"
    }
   ],
   "source": [
    "type(a)"
   ]
  },
  {
   "cell_type": "code",
   "execution_count": 75,
   "id": "433595aa-c636-4cf5-896f-bf2fa54249d5",
   "metadata": {},
   "outputs": [
    {
     "data": {
      "text/plain": [
       "True"
      ]
     },
     "execution_count": 75,
     "metadata": {},
     "output_type": "execute_result"
    }
   ],
   "source": [
    "a=True\n",
    "a"
   ]
  },
  {
   "cell_type": "code",
   "execution_count": 76,
   "id": "105af7db-51ce-452d-8c8f-b847581f4a9d",
   "metadata": {},
   "outputs": [
    {
     "data": {
      "text/plain": [
       "bool"
      ]
     },
     "execution_count": 76,
     "metadata": {},
     "output_type": "execute_result"
    }
   ],
   "source": [
    "type(a)"
   ]
  },
  {
   "cell_type": "code",
   "execution_count": 77,
   "id": "e801d001-87a8-41c1-8e5c-ced555af726e",
   "metadata": {},
   "outputs": [],
   "source": [
    "b=False"
   ]
  },
  {
   "cell_type": "code",
   "execution_count": 78,
   "id": "b8ef62b1-07e8-4209-9e72-fac1562b0259",
   "metadata": {},
   "outputs": [
    {
     "data": {
      "text/plain": [
       "False"
      ]
     },
     "execution_count": 78,
     "metadata": {},
     "output_type": "execute_result"
    }
   ],
   "source": [
    "b"
   ]
  },
  {
   "cell_type": "code",
   "execution_count": 79,
   "id": "ca4d0371-8b6a-4ad1-a0ff-c9620e1b032a",
   "metadata": {},
   "outputs": [
    {
     "data": {
      "text/plain": [
       "1"
      ]
     },
     "execution_count": 79,
     "metadata": {},
     "output_type": "execute_result"
    }
   ],
   "source": [
    "True+False"
   ]
  },
  {
   "cell_type": "code",
   "execution_count": 81,
   "id": "bb3ed5c8-4e81-42f6-81c3-30bf9303ed1c",
   "metadata": {},
   "outputs": [
    {
     "data": {
      "text/plain": [
       "0"
      ]
     },
     "execution_count": 81,
     "metadata": {},
     "output_type": "execute_result"
    }
   ],
   "source": [
    "True*False"
   ]
  },
  {
   "cell_type": "code",
   "execution_count": 84,
   "id": "e10c244d-7e63-4423-bbec-e596b8c96143",
   "metadata": {},
   "outputs": [
    {
     "data": {
      "text/plain": [
       "'Abhishek'"
      ]
     },
     "execution_count": 84,
     "metadata": {},
     "output_type": "execute_result"
    }
   ],
   "source": [
    "a=\"Abhishek\"\n",
    "a"
   ]
  },
  {
   "cell_type": "code",
   "execution_count": 85,
   "id": "8f16f68c-1ac2-41ff-92f9-0d8770653ff6",
   "metadata": {},
   "outputs": [
    {
     "data": {
      "text/plain": [
       "'h'"
      ]
     },
     "execution_count": 85,
     "metadata": {},
     "output_type": "execute_result"
    }
   ],
   "source": [
    "a[5]"
   ]
  },
  {
   "cell_type": "code",
   "execution_count": 86,
   "id": "0e352d5a-c50e-4c2e-befb-660eeee6f61b",
   "metadata": {},
   "outputs": [
    {
     "data": {
      "text/plain": [
       "'Ahse'"
      ]
     },
     "execution_count": 86,
     "metadata": {},
     "output_type": "execute_result"
    }
   ],
   "source": [
    "a[0:8:2]"
   ]
  },
  {
   "cell_type": "code",
   "execution_count": 87,
   "id": "9f00f107-f500-471e-9158-9c084b8c2577",
   "metadata": {},
   "outputs": [
    {
     "data": {
      "text/plain": [
       "'hh'"
      ]
     },
     "execution_count": 87,
     "metadata": {},
     "output_type": "execute_result"
    }
   ],
   "source": [
    "a[2::3]"
   ]
  },
  {
   "cell_type": "code",
   "execution_count": 3,
   "id": "00066c4c-2fa9-4eb6-a580-50b03723f524",
   "metadata": {},
   "outputs": [],
   "source": [
    "c= 768\n"
   ]
  },
  {
   "cell_type": "code",
   "execution_count": 4,
   "id": "821752d0-b0d3-49fe-944e-1e35c2d03cde",
   "metadata": {},
   "outputs": [],
   "source": [
    "g1 = \"this is my string class\""
   ]
  },
  {
   "cell_type": "code",
   "execution_count": 5,
   "id": "afb9a5d4-a1f3-4d4b-8fc6-07ab6ecfaca2",
   "metadata": {},
   "outputs": [
    {
     "data": {
      "text/plain": [
       "23"
      ]
     },
     "execution_count": 5,
     "metadata": {},
     "output_type": "execute_result"
    }
   ],
   "source": [
    "len(g1)"
   ]
  },
  {
   "cell_type": "code",
   "execution_count": null,
   "id": "b04ffc87-9ecc-40b0-8b3e-869f96a7f7a4",
   "metadata": {},
   "outputs": [],
   "source": []
  },
  {
   "cell_type": "code",
   "execution_count": 7,
   "id": "382a895a-7a98-4e1f-b773-907eaabd3f79",
   "metadata": {},
   "outputs": [
    {
     "data": {
      "text/plain": [
       "3"
      ]
     },
     "execution_count": 7,
     "metadata": {},
     "output_type": "execute_result"
    }
   ],
   "source": [
    "g1.find(\"s\")"
   ]
  },
  {
   "cell_type": "code",
   "execution_count": 8,
   "id": "117ce38c-def6-47c6-a7eb-0721ea54651d",
   "metadata": {},
   "outputs": [
    {
     "data": {
      "text/plain": [
       "15"
      ]
     },
     "execution_count": 8,
     "metadata": {},
     "output_type": "execute_result"
    }
   ],
   "source": [
    "g1.find ('n')"
   ]
  },
  {
   "cell_type": "code",
   "execution_count": 9,
   "id": "599225b2-84c1-4aeb-a389-a5a1c0730829",
   "metadata": {},
   "outputs": [
    {
     "data": {
      "text/plain": [
       "2"
      ]
     },
     "execution_count": 9,
     "metadata": {},
     "output_type": "execute_result"
    }
   ],
   "source": [
    "g1.find (\"is\")"
   ]
  },
  {
   "cell_type": "code",
   "execution_count": 11,
   "id": "728a4f85-d497-4437-8fbf-48d7d522df24",
   "metadata": {},
   "outputs": [
    {
     "data": {
      "text/plain": [
       "'this is my string class'"
      ]
     },
     "execution_count": 11,
     "metadata": {},
     "output_type": "execute_result"
    }
   ],
   "source": [
    "g1"
   ]
  },
  {
   "cell_type": "code",
   "execution_count": 12,
   "id": "336701cc-2c27-48c5-91be-989314e194d9",
   "metadata": {},
   "outputs": [
    {
     "data": {
      "text/plain": [
       "5"
      ]
     },
     "execution_count": 12,
     "metadata": {},
     "output_type": "execute_result"
    }
   ],
   "source": [
    "g1.count('s')"
   ]
  },
  {
   "cell_type": "code",
   "execution_count": 13,
   "id": "e8a47632-295c-47a0-a966-4f4a81f3dbc4",
   "metadata": {},
   "outputs": [
    {
     "data": {
      "text/plain": [
       "3"
      ]
     },
     "execution_count": 13,
     "metadata": {},
     "output_type": "execute_result"
    }
   ],
   "source": [
    "g1.count('i')"
   ]
  },
  {
   "cell_type": "code",
   "execution_count": 14,
   "id": "fee07f18-031f-457a-b379-7e5c3b29f247",
   "metadata": {},
   "outputs": [
    {
     "data": {
      "text/plain": [
       "0"
      ]
     },
     "execution_count": 14,
     "metadata": {},
     "output_type": "execute_result"
    }
   ],
   "source": [
    "g1.count('z')"
   ]
  },
  {
   "cell_type": "code",
   "execution_count": 15,
   "id": "da8c877d-964e-43b2-9362-c87978603810",
   "metadata": {},
   "outputs": [
    {
     "data": {
      "text/plain": [
       "0"
      ]
     },
     "execution_count": 15,
     "metadata": {},
     "output_type": "execute_result"
    }
   ],
   "source": [
    "g1.count('al')"
   ]
  },
  {
   "cell_type": "code",
   "execution_count": 16,
   "id": "7967222f-4e83-408b-be26-f90a2279ca5e",
   "metadata": {},
   "outputs": [
    {
     "data": {
      "text/plain": [
       "'THIS IS MY STRING CLASS'"
      ]
     },
     "execution_count": 16,
     "metadata": {},
     "output_type": "execute_result"
    }
   ],
   "source": [
    "g1.upper()"
   ]
  },
  {
   "cell_type": "code",
   "execution_count": 17,
   "id": "56e108fe-0e96-4932-a98d-d0978701f2d6",
   "metadata": {},
   "outputs": [
    {
     "data": {
      "text/plain": [
       "'this is my string class'"
      ]
     },
     "execution_count": 17,
     "metadata": {},
     "output_type": "execute_result"
    }
   ],
   "source": [
    "g1.lower()"
   ]
  },
  {
   "cell_type": "code",
   "execution_count": 18,
   "id": "62855ea1-914d-49f0-bb35-a11309479e7b",
   "metadata": {},
   "outputs": [
    {
     "data": {
      "text/plain": [
       "'This Is My String Class'"
      ]
     },
     "execution_count": 18,
     "metadata": {},
     "output_type": "execute_result"
    }
   ],
   "source": [
    "g1.title()"
   ]
  },
  {
   "cell_type": "code",
   "execution_count": 19,
   "id": "2914f874-4af5-406b-b07d-cc7dc991cedb",
   "metadata": {},
   "outputs": [
    {
     "data": {
      "text/plain": [
       "'This is my string class'"
      ]
     },
     "execution_count": 19,
     "metadata": {},
     "output_type": "execute_result"
    }
   ],
   "source": [
    "g1.capitalize()"
   ]
  },
  {
   "cell_type": "code",
   "execution_count": 22,
   "id": "ed96b037-efd0-4a05-9ca3-5dcf7d677c1d",
   "metadata": {},
   "outputs": [],
   "source": [
    "a='gdjfguuh'"
   ]
  },
  {
   "cell_type": "code",
   "execution_count": 23,
   "id": "1edb299a-a1a8-4b73-94aa-f108af4d9b1c",
   "metadata": {},
   "outputs": [
    {
     "data": {
      "text/plain": [
       "'gdjfguuh'"
      ]
     },
     "execution_count": 23,
     "metadata": {},
     "output_type": "execute_result"
    }
   ],
   "source": [
    "a"
   ]
  },
  {
   "cell_type": "code",
   "execution_count": null,
   "id": "bf435609-181d-4079-8fdc-c86cd305da73",
   "metadata": {},
   "outputs": [],
   "source": []
  },
  {
   "cell_type": "code",
   "execution_count": null,
   "id": "f881e760-6e5e-429a-9a5e-984ba1ec0171",
   "metadata": {},
   "outputs": [],
   "source": [
    "\n"
   ]
  },
  {
   "cell_type": "code",
   "execution_count": null,
   "id": "052e6053-9194-493b-9339-0f249cb7fca2",
   "metadata": {},
   "outputs": [],
   "source": []
  },
  {
   "cell_type": "code",
   "execution_count": null,
   "id": "e414d976-e218-498a-9f3d-c6458f83a09d",
   "metadata": {},
   "outputs": [],
   "source": []
  },
  {
   "cell_type": "code",
   "execution_count": null,
   "id": "3b2633c9-9977-4065-a3bc-088ad76e0885",
   "metadata": {},
   "outputs": [],
   "source": []
  },
  {
   "cell_type": "code",
   "execution_count": null,
   "id": "a0982a47-e8fa-402e-98f2-83336cfce032",
   "metadata": {},
   "outputs": [],
   "source": []
  },
  {
   "cell_type": "code",
   "execution_count": null,
   "id": "fa82ba9b-a9ad-4237-9281-b6f989c00ba9",
   "metadata": {},
   "outputs": [],
   "source": [
    "\n"
   ]
  },
  {
   "cell_type": "code",
   "execution_count": null,
   "id": "eb69957e-6a66-412a-a905-352d9f961690",
   "metadata": {},
   "outputs": [],
   "source": [
    "\n"
   ]
  },
  {
   "cell_type": "code",
   "execution_count": null,
   "id": "a7432c98-87e8-4f5c-8111-fda749af553a",
   "metadata": {},
   "outputs": [],
   "source": []
  },
  {
   "cell_type": "code",
   "execution_count": null,
   "id": "11a1b166-2012-4947-8b37-697543f75486",
   "metadata": {},
   "outputs": [],
   "source": []
  },
  {
   "cell_type": "code",
   "execution_count": 2,
   "id": "49f3f7b3-8d43-4780-9ee0-446e1e0e3993",
   "metadata": {},
   "outputs": [],
   "source": [
    "d = {}"
   ]
  },
  {
   "cell_type": "code",
   "execution_count": 3,
   "id": "946c5154-1347-4cb7-8a06-031d63afd53e",
   "metadata": {},
   "outputs": [
    {
     "data": {
      "text/plain": [
       "dict"
      ]
     },
     "execution_count": 3,
     "metadata": {},
     "output_type": "execute_result"
    }
   ],
   "source": [
    "type (d)"
   ]
  },
  {
   "cell_type": "code",
   "execution_count": 10,
   "id": "eec8d709-b0fb-4657-b599-6b15e746aa59",
   "metadata": {},
   "outputs": [],
   "source": [
    "d1 = {\"key\" : 'abhi'}"
   ]
  },
  {
   "cell_type": "code",
   "execution_count": 11,
   "id": "34dc9f2b-a823-403f-acc1-7063576c728b",
   "metadata": {},
   "outputs": [
    {
     "data": {
      "text/plain": [
       "{'key': 'abhi'}"
      ]
     },
     "execution_count": 11,
     "metadata": {},
     "output_type": "execute_result"
    }
   ],
   "source": [
    "d1"
   ]
  },
  {
   "cell_type": "code",
   "execution_count": 29,
   "id": "adc72634-6b10-4ed9-afdd-37b20ce41ad5",
   "metadata": {},
   "outputs": [],
   "source": [
    "d2 = {'name': \"abhi\" , 'mail_id' : 'fggfyrg234@gmail.com', \"num\" : 7676 , \"name\" :'abhish'}"
   ]
  },
  {
   "cell_type": "code",
   "execution_count": 30,
   "id": "d32b9b68-aac2-4971-adfc-ade10831aaf7",
   "metadata": {},
   "outputs": [
    {
     "data": {
      "text/plain": [
       "{'name': 'abhish', 'mail_id': 'fggfyrg234@gmail.com', 'num': 7676}"
      ]
     },
     "execution_count": 30,
     "metadata": {},
     "output_type": "execute_result"
    }
   ],
   "source": [
    "d2"
   ]
  },
  {
   "cell_type": "code",
   "execution_count": 21,
   "id": "115cd480-91d3-45de-a6fa-67bc4693fdcb",
   "metadata": {},
   "outputs": [
    {
     "data": {
      "text/plain": [
       "'abhi'"
      ]
     },
     "execution_count": 21,
     "metadata": {},
     "output_type": "execute_result"
    }
   ],
   "source": [
    "d2 ['name']"
   ]
  },
  {
   "cell_type": "code",
   "execution_count": 22,
   "id": "0568c93e-fb5a-4b48-96dd-0b24173e9b8c",
   "metadata": {},
   "outputs": [
    {
     "data": {
      "text/plain": [
       "'fggfyrg234@gmail.com'"
      ]
     },
     "execution_count": 22,
     "metadata": {},
     "output_type": "execute_result"
    }
   ],
   "source": [
    "d2 [\"mail_id\"]"
   ]
  },
  {
   "cell_type": "code",
   "execution_count": 23,
   "id": "469bf3a1-c4ff-4cbf-bfed-ba5ac32dae44",
   "metadata": {},
   "outputs": [
    {
     "data": {
      "text/plain": [
       "7676"
      ]
     },
     "execution_count": 23,
     "metadata": {},
     "output_type": "execute_result"
    }
   ],
   "source": [
    "d2[\"num\"]"
   ]
  },
  {
   "cell_type": "code",
   "execution_count": 24,
   "id": "e53c9f9b-8979-4c87-9e36-e3970b5394ff",
   "metadata": {},
   "outputs": [
    {
     "data": {
      "text/plain": [
       "'abhi'"
      ]
     },
     "execution_count": 24,
     "metadata": {},
     "output_type": "execute_result"
    }
   ],
   "source": [
    "d2['name']"
   ]
  },
  {
   "cell_type": "code",
   "execution_count": 25,
   "id": "5d26a2df-d1f9-4bbc-8407-ae288a611056",
   "metadata": {},
   "outputs": [
    {
     "data": {
      "text/plain": [
       "'abhi'"
      ]
     },
     "execution_count": 25,
     "metadata": {},
     "output_type": "execute_result"
    }
   ],
   "source": [
    "d2[\"name\"]"
   ]
  },
  {
   "cell_type": "code",
   "execution_count": 26,
   "id": "1650f2e2-2a8b-497e-8bdb-e726d454954f",
   "metadata": {},
   "outputs": [
    {
     "data": {
      "text/plain": [
       "{'name': 'abhi', 'mail_id': 'fggfyrg234@gmail.com', 'num': 7676}"
      ]
     },
     "execution_count": 26,
     "metadata": {},
     "output_type": "execute_result"
    }
   ],
   "source": [
    "d2"
   ]
  },
  {
   "cell_type": "code",
   "execution_count": 32,
   "id": "b55ce9bc-77ec-42c2-853a-c1615e67630b",
   "metadata": {},
   "outputs": [],
   "source": [
    "d6 = {\"collage\" : 'tit bhopal' , 'branch' : [\"computer scinces\", \"data sciences\" , 'aiml' , \"mba\" ,\"ex or eee\"]}"
   ]
  },
  {
   "cell_type": "code",
   "execution_count": 33,
   "id": "df3155da-636b-44a2-a1b2-eb8c4f8aea24",
   "metadata": {},
   "outputs": [
    {
     "data": {
      "text/plain": [
       "{'collage': 'tit bhopal',\n",
       " 'branch': ['computer scinces', 'data sciences', 'aiml', 'mba', 'ex or eee']}"
      ]
     },
     "execution_count": 33,
     "metadata": {},
     "output_type": "execute_result"
    }
   ],
   "source": [
    "d6"
   ]
  },
  {
   "cell_type": "code",
   "execution_count": 34,
   "id": "825ab39c-d7aa-4580-b2fc-2344bd0720c6",
   "metadata": {},
   "outputs": [
    {
     "data": {
      "text/plain": [
       "['computer scinces', 'data sciences', 'aiml', 'mba', 'ex or eee']"
      ]
     },
     "execution_count": 34,
     "metadata": {},
     "output_type": "execute_result"
    }
   ],
   "source": [
    "d6['branch']"
   ]
  },
  {
   "cell_type": "code",
   "execution_count": 35,
   "id": "656f4dcf-ca40-422d-8f1b-c687e8fa0308",
   "metadata": {},
   "outputs": [
    {
     "data": {
      "text/plain": [
       "'ex or eee'"
      ]
     },
     "execution_count": 35,
     "metadata": {},
     "output_type": "execute_result"
    }
   ],
   "source": [
    "d6['branch'][-1]"
   ]
  },
  {
   "cell_type": "code",
   "execution_count": 36,
   "id": "71527786-8bb6-4802-a4de-87cd5ed46b7b",
   "metadata": {},
   "outputs": [
    {
     "data": {
      "text/plain": [
       "'ex or eee'"
      ]
     },
     "execution_count": 36,
     "metadata": {},
     "output_type": "execute_result"
    }
   ],
   "source": [
    "d6['branch'][4]"
   ]
  },
  {
   "cell_type": "code",
   "execution_count": 37,
   "id": "673f5f84-81f0-479d-a9d4-3706d67fa1c7",
   "metadata": {},
   "outputs": [
    {
     "data": {
      "text/plain": [
       "'aiml'"
      ]
     },
     "execution_count": 37,
     "metadata": {},
     "output_type": "execute_result"
    }
   ],
   "source": [
    "d6['branch'][2]"
   ]
  },
  {
   "cell_type": "code",
   "execution_count": 38,
   "id": "56721021-9185-4a59-9492-42bce2a0834b",
   "metadata": {},
   "outputs": [
    {
     "data": {
      "text/plain": [
       "'m'"
      ]
     },
     "execution_count": 38,
     "metadata": {},
     "output_type": "execute_result"
    }
   ],
   "source": [
    "d6['branch'][2][2]"
   ]
  },
  {
   "cell_type": "code",
   "execution_count": 39,
   "id": "4a713933-413b-412b-afcc-3d18f2ef06b2",
   "metadata": {},
   "outputs": [
    {
     "data": {
      "text/plain": [
       "'e'"
      ]
     },
     "execution_count": 39,
     "metadata": {},
     "output_type": "execute_result"
    }
   ],
   "source": [
    "d6['branch'][0][-2]"
   ]
  },
  {
   "cell_type": "code",
   "execution_count": 41,
   "id": "87232d6c-921c-40e0-a15f-83da2dc02f59",
   "metadata": {},
   "outputs": [
    {
     "data": {
      "text/plain": [
       "'secnics retupmoc'"
      ]
     },
     "execution_count": 41,
     "metadata": {},
     "output_type": "execute_result"
    }
   ],
   "source": [
    "d6['branch'][0][::-1]"
   ]
  },
  {
   "cell_type": "code",
   "execution_count": 47,
   "id": "3eb617d1-ec78-484d-b78a-46c4a8ae9317",
   "metadata": {},
   "outputs": [],
   "source": [
    "d4 = { 'num' : [6,7,7,9,4,0,2,] , \"assignment\" : (7,8,9,5,4,43), 'lunch date' : [14,13,25,30,3], 'class_time' : {\"web\":6, 'ds':9, \"java\" : 6}}"
   ]
  },
  {
   "cell_type": "code",
   "execution_count": 48,
   "id": "7c815a88-fda4-464a-9d1f-65491b67a6f9",
   "metadata": {},
   "outputs": [
    {
     "data": {
      "text/plain": [
       "{'num': [6, 7, 7, 9, 4, 0, 2],\n",
       " 'assignment': (7, 8, 9, 5, 4, 43),\n",
       " 'lunch date': [14, 13, 25, 30, 3],\n",
       " 'class_time': {'web': 6, 'ds': 9, 'java': 6}}"
      ]
     },
     "execution_count": 48,
     "metadata": {},
     "output_type": "execute_result"
    }
   ],
   "source": [
    "d4"
   ]
  },
  {
   "cell_type": "code",
   "execution_count": 44,
   "id": "bf317774-d89b-4811-8162-b2c8433ea24e",
   "metadata": {},
   "outputs": [
    {
     "data": {
      "text/plain": [
       "[6, 7, 7, 9, 4, 0, 2]"
      ]
     },
     "execution_count": 44,
     "metadata": {},
     "output_type": "execute_result"
    }
   ],
   "source": [
    "d4[\"num\"]"
   ]
  },
  {
   "cell_type": "code",
   "execution_count": 45,
   "id": "25c43956-f4ff-4944-8345-e6b5b3f7fd15",
   "metadata": {},
   "outputs": [
    {
     "data": {
      "text/plain": [
       "[14, 13, 25, 30, 3]"
      ]
     },
     "execution_count": 45,
     "metadata": {},
     "output_type": "execute_result"
    }
   ],
   "source": [
    "d4['lunch date']"
   ]
  },
  {
   "cell_type": "code",
   "execution_count": 49,
   "id": "ba662aec-b3fa-436c-80fe-1ea95fd632cd",
   "metadata": {},
   "outputs": [
    {
     "data": {
      "text/plain": [
       "{'web': 6, 'ds': 9, 'java': 6}"
      ]
     },
     "execution_count": 49,
     "metadata": {},
     "output_type": "execute_result"
    }
   ],
   "source": [
    "d4['class_time']"
   ]
  },
  {
   "cell_type": "code",
   "execution_count": null,
   "id": "93b71709-5415-45cb-b209-391c436333f0",
   "metadata": {},
   "outputs": [],
   "source": []
  },
  {
   "cell_type": "code",
   "execution_count": null,
   "id": "4e1653df-13bc-4531-9f9d-f7b5df37d1c6",
   "metadata": {},
   "outputs": [],
   "source": []
  },
  {
   "cell_type": "code",
   "execution_count": null,
   "id": "f4cf8c76-ad90-459e-b867-0a7fecad3762",
   "metadata": {},
   "outputs": [],
   "source": []
  },
  {
   "cell_type": "code",
   "execution_count": null,
   "id": "29361dd3-9c85-452c-870a-7b6e474437e7",
   "metadata": {},
   "outputs": [],
   "source": []
  },
  {
   "cell_type": "code",
   "execution_count": 21,
   "id": "f632cbed-56e0-405d-bff1-4e2f7aae1d8a",
   "metadata": {},
   "outputs": [
    {
     "name": "stdin",
     "output_type": "stream",
     "text": [
      "enter you marks 64\n"
     ]
    },
    {
     "name": "stdout",
     "output_type": "stream",
     "text": [
      "you will be a part of A1 batch\n"
     ]
    }
   ],
   "source": [
    "marks = int(input (\"enter you marks\"))\n",
    "if marks >=80:\n",
    "    print(\"you will be a part of A0 batch\")\n",
    "elif marks >= 60 and marks <80:\n",
    "    print  (\"you will be a part of A1 batch\")\n",
    "elif marks >= 40 and marks <60:\n",
    "    print (\"you will be a part of A2 batch \")\n",
    "elif marks >= 0 and marks <60:\n",
    "    print (\"you will be a part of A3 batch \")\n",
    "else:\n",
    "    print (\"you will be a part of losser batch\")"
   ]
  },
  {
   "cell_type": "code",
   "execution_count": null,
   "id": "5a8f9296-c7d3-4204-bb1e-bc87a77889f7",
   "metadata": {},
   "outputs": [
    {
     "data": {
      "text/plain": [
       "False"
      ]
     },
     "execution_count": 10,
     "metadata": {},
     "output_type": "execute_result"
    }
   ],
   "source": [
    "19 >=40"
   ]
  },
  {
   "cell_type": "code",
   "execution_count": 11,
   "id": "79dbaa36-6b1a-40ac-b07a-c8bc0efc5d82",
   "metadata": {},
   "outputs": [
    {
     "data": {
      "text/plain": [
       "False"
      ]
     },
     "execution_count": 11,
     "metadata": {},
     "output_type": "execute_result"
    }
   ],
   "source": [
    "58>=854"
   ]
  },
  {
   "cell_type": "code",
   "execution_count": 12,
   "id": "4e98ab62-78e6-4da3-9e59-a7fab55710d3",
   "metadata": {},
   "outputs": [
    {
     "data": {
      "text/plain": [
       "True"
      ]
     },
     "execution_count": 12,
     "metadata": {},
     "output_type": "execute_result"
    }
   ],
   "source": [
    "-365 <= 95"
   ]
  },
  {
   "cell_type": "code",
   "execution_count": 13,
   "id": "d94d790c-ea7e-43f3-9481-bab857c8e2aa",
   "metadata": {},
   "outputs": [
    {
     "data": {
      "text/plain": [
       "bool"
      ]
     },
     "execution_count": 13,
     "metadata": {},
     "output_type": "execute_result"
    }
   ],
   "source": [
    "type (19 >=40)"
   ]
  },
  {
   "cell_type": "code",
   "execution_count": 20,
   "id": "3a033313-a2b8-46d3-a7ca-9fe80e57afac",
   "metadata": {},
   "outputs": [
    {
     "data": {
      "text/plain": [
       "str"
      ]
     },
     "execution_count": 20,
     "metadata": {},
     "output_type": "execute_result"
    }
   ],
   "source": [
    "type (marks)"
   ]
  },
  {
   "cell_type": "code",
   "execution_count": 31,
   "id": "ff4bfd9d-258a-406c-bfac-24e6e2b6cbee",
   "metadata": {},
   "outputs": [
    {
     "name": "stdin",
     "output_type": "stream",
     "text": [
      "inter your price 10000\n"
     ]
    },
    {
     "name": "stdout",
     "output_type": "stream",
     "text": [
      "i will purchase\n"
     ]
    }
   ],
   "source": [
    "price =int (input(\"inter your price\"))\n",
    "if price >10000:\n",
    "    print(\"i will not purchase\")\n",
    "else :\n",
    "    print (\"i will purchase\")"
   ]
  },
  {
   "cell_type": "code",
   "execution_count": null,
   "id": "6cc3d4ce-490d-40b6-b407-92782303c597",
   "metadata": {},
   "outputs": [],
   "source": [
    "price = int (input (\"enter price\"))\n",
    "if price >1000:\n",
    "    print(\"i will not purchase\")\n",
    "    if price >5000:\n",
    "        print(\"this is too much\")\n",
    "elif price <2000:\n",
    "    print (\"its good\")\n",
    "elif price <1000:\n",
    "        print (\"i will purchase bro\")\n",
    "else :\n",
    "    print(\"not interested\")"
   ]
  },
  {
   "cell_type": "code",
   "execution_count": null,
   "id": "895531bf-16f9-4e91-ac28-cedfd3ef9364",
   "metadata": {},
   "outputs": [],
   "source": [
    "price = int (input (\"enter price\"))\n",
    "if price >1000:\n",
    "    print(\"i will not purchase\")\n",
    "    if price >5000:\n",
    "        print(\"this is too much\")\n",
    "elif price <2000:\n",
    "    print (\"its good\")\n",
    "elif price <1000:\n",
    "        print (\"i will purchase bro\")\n",
    "else :\n",
    "    print(\"not interested\")"
   ]
  },
  {
   "cell_type": "code",
   "execution_count": null,
   "id": "d5e411a3-d219-4b45-ada9-727fac794d65",
   "metadata": {},
   "outputs": [],
   "source": []
  },
  {
   "cell_type": "code",
   "execution_count": null,
   "id": "f1d1c747-ec2a-4943-87cb-46b960a7256f",
   "metadata": {},
   "outputs": [],
   "source": [
    "l = [1,2,3,4,5,6,7,8]"
   ]
  },
  {
   "cell_type": "code",
   "execution_count": null,
   "id": "b70aaeb1-c90d-4b67-9f96-23378ad6f228",
   "metadata": {},
   "outputs": [],
   "source": [
    "l[2]"
   ]
  },
  {
   "cell_type": "code",
   "execution_count": null,
   "id": "6a8f83ba-a758-4587-9dfb-ef2834eb483b",
   "metadata": {},
   "outputs": [],
   "source": []
  },
  {
   "cell_type": "code",
   "execution_count": null,
   "id": "3133f75a-2683-4441-803a-815bb1537726",
   "metadata": {},
   "outputs": [],
   "source": []
  }
 ],
 "metadata": {
  "kernelspec": {
   "display_name": "Python 3 (ipykernel)",
   "language": "python",
   "name": "python3"
  },
  "language_info": {
   "codemirror_mode": {
    "name": "ipython",
    "version": 3
   },
   "file_extension": ".py",
   "mimetype": "text/x-python",
   "name": "python",
   "nbconvert_exporter": "python",
   "pygments_lexer": "ipython3",
   "version": "3.10.8"
  }
 },
 "nbformat": 4,
 "nbformat_minor": 5
}
